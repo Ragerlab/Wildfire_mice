{
 "cells": [
  {
   "cell_type": "code",
   "execution_count": 1,
   "id": "contrary-selection",
   "metadata": {},
   "outputs": [
    {
     "name": "stderr",
     "output_type": "stream",
     "text": [
      "── \u001b[1mAttaching packages\u001b[22m ─────────────────────────────────────── tidyverse 1.3.0 ──\n",
      "\n",
      "\u001b[32m✔\u001b[39m \u001b[34mggplot2\u001b[39m 3.3.3     \u001b[32m✔\u001b[39m \u001b[34mpurrr  \u001b[39m 0.3.4\n",
      "\u001b[32m✔\u001b[39m \u001b[34mtibble \u001b[39m 3.0.6     \u001b[32m✔\u001b[39m \u001b[34mdplyr  \u001b[39m 1.0.4\n",
      "\u001b[32m✔\u001b[39m \u001b[34mtidyr  \u001b[39m 1.1.2     \u001b[32m✔\u001b[39m \u001b[34mstringr\u001b[39m 1.4.0\n",
      "\u001b[32m✔\u001b[39m \u001b[34mreadr  \u001b[39m 1.4.0     \u001b[32m✔\u001b[39m \u001b[34mforcats\u001b[39m 0.5.1\n",
      "\n",
      "── \u001b[1mConflicts\u001b[22m ────────────────────────────────────────── tidyverse_conflicts() ──\n",
      "\u001b[31m✖\u001b[39m \u001b[34mdplyr\u001b[39m::\u001b[32mfilter()\u001b[39m masks \u001b[34mstats\u001b[39m::filter()\n",
      "\u001b[31m✖\u001b[39m \u001b[34mdplyr\u001b[39m::\u001b[32mlag()\u001b[39m    masks \u001b[34mstats\u001b[39m::lag()\n",
      "\n",
      "\n",
      "Attaching package: ‘reshape2’\n",
      "\n",
      "\n",
      "The following object is masked from ‘package:tidyr’:\n",
      "\n",
      "    smiths\n",
      "\n",
      "\n",
      "Registered S3 method overwritten by 'GGally':\n",
      "  method from   \n",
      "  +.gg   ggplot2\n",
      "\n",
      "Loading required package: iterators\n",
      "\n",
      "Warning message:\n",
      "“Missing column names filled in: 'X1' [1]”\n",
      "\n",
      "\u001b[36m──\u001b[39m \u001b[1m\u001b[1mColumn specification\u001b[1m\u001b[22m \u001b[36m────────────────────────────────────────────────────────\u001b[39m\n",
      "cols(\n",
      "  .default = col_double(),\n",
      "  X1 = \u001b[31mcol_character()\u001b[39m\n",
      ")\n",
      "\u001b[36mℹ\u001b[39m Use \u001b[30m\u001b[47m\u001b[30m\u001b[47m`spec()`\u001b[47m\u001b[30m\u001b[49m\u001b[39m for the full column specifications.\n",
      "\n",
      "\n",
      "\n",
      "\u001b[36m──\u001b[39m \u001b[1m\u001b[1mColumn specification\u001b[1m\u001b[22m \u001b[36m────────────────────────────────────────────────────────\u001b[39m\n",
      "cols(\n",
      "  SampleID_BioSpyderCountFile = \u001b[31mcol_character()\u001b[39m,\n",
      "  PlateBatch = \u001b[31mcol_character()\u001b[39m,\n",
      "  MouseID = \u001b[31mcol_character()\u001b[39m,\n",
      "  NumericID = \u001b[31mcol_character()\u001b[39m,\n",
      "  Treatment = \u001b[31mcol_character()\u001b[39m,\n",
      "  ID = \u001b[31mcol_character()\u001b[39m,\n",
      "  Timepoint = \u001b[31mcol_character()\u001b[39m,\n",
      "  Tissue = \u001b[31mcol_character()\u001b[39m,\n",
      "  Group = \u001b[31mcol_character()\u001b[39m\n",
      ")\n",
      "\n",
      "\n"
     ]
    }
   ],
   "source": [
    "setwd('/Users/alexis/IEHS Dropbox/Rager Lab/Alexis_Payton/2_Wildfire_Analysis/3_Statistics/Input')\n",
    "Output = ('/Users/alexis/IEHS Dropbox/Rager Lab/Alexis_Payton/2_Wildfire_Analysis/3_Statistics/Output')\n",
    "cur_date = '020421'\n",
    "\n",
    "library(readxl)\n",
    "library(tidyverse)\n",
    "library(reshape2)\n",
    "library(GGally)\n",
    "library(ggplot2)\n",
    "library(itertools)\n",
    "\n",
    "#reading in file\n",
    "counts_df = read_csv(\"010521_NormCounts_pslog2_.csv\")\n",
    "sampleinfo = read_csv(\"Sample_Info_112520.csv\")"
   ]
  },
  {
   "cell_type": "code",
   "execution_count": 2,
   "id": "sporting-investor",
   "metadata": {},
   "outputs": [
    {
     "data": {
      "text/html": [
       "<table class=\"dataframe\">\n",
       "<caption>A tibble: 6 × 170</caption>\n",
       "<thead>\n",
       "\t<tr><th scope=col>X1</th><th scope=col>M1_RedOakSmolder</th><th scope=col>M2_RedOakSmolder</th><th scope=col>M3_RedOakSmolder</th><th scope=col>M4_RedOakSmolder</th><th scope=col>M5_RedOakSmolder</th><th scope=col>M6_RedOakSmolder</th><th scope=col>M7_PeatSmolder</th><th scope=col>M8_PeatSmolder</th><th scope=col>M9_PeatSmolder</th><th scope=col>⋯</th><th scope=col>MH73_RedOakSmolder</th><th scope=col>MH74_RedOakSmolder</th><th scope=col>MH75_RedOakSmolder</th><th scope=col>MH76_RedOakSmolder</th><th scope=col>MH77_PeatSmolder</th><th scope=col>MH78_PeatSmolder</th><th scope=col>MH79_PeatSmolder</th><th scope=col>MH80_PeatSmolder</th><th scope=col>MH81_PeatSmolder</th><th scope=col>MH82_PeatSmolder</th></tr>\n",
       "\t<tr><th scope=col>&lt;chr&gt;</th><th scope=col>&lt;dbl&gt;</th><th scope=col>&lt;dbl&gt;</th><th scope=col>&lt;dbl&gt;</th><th scope=col>&lt;dbl&gt;</th><th scope=col>&lt;dbl&gt;</th><th scope=col>&lt;dbl&gt;</th><th scope=col>&lt;dbl&gt;</th><th scope=col>&lt;dbl&gt;</th><th scope=col>&lt;dbl&gt;</th><th scope=col>⋯</th><th scope=col>&lt;dbl&gt;</th><th scope=col>&lt;dbl&gt;</th><th scope=col>&lt;dbl&gt;</th><th scope=col>&lt;dbl&gt;</th><th scope=col>&lt;dbl&gt;</th><th scope=col>&lt;dbl&gt;</th><th scope=col>&lt;dbl&gt;</th><th scope=col>&lt;dbl&gt;</th><th scope=col>&lt;dbl&gt;</th><th scope=col>&lt;dbl&gt;</th></tr>\n",
       "</thead>\n",
       "<tbody>\n",
       "\t<tr><td>Bcat1_29039 </td><td>0.000000</td><td>0.0000000</td><td>0.000000</td><td>0.000000</td><td>0.000000</td><td>0.000000</td><td>0.000000</td><td>0.000000</td><td>0.0000000</td><td>⋯</td><td> 0.000000</td><td> 0.000000</td><td> 0.000000</td><td> 0.000000</td><td> 0.000000</td><td> 0.000000</td><td> 0.000000</td><td> 0.000000</td><td> 0.000000</td><td> 0.000000</td></tr>\n",
       "\t<tr><td>Laptm5_29040</td><td>0.000000</td><td>0.8162391</td><td>2.151526</td><td>0.000000</td><td>0.000000</td><td>0.000000</td><td>1.310669</td><td>0.000000</td><td>0.8440234</td><td>⋯</td><td> 0.000000</td><td> 0.000000</td><td> 0.000000</td><td> 2.044687</td><td> 0.000000</td><td> 0.000000</td><td> 0.000000</td><td> 0.000000</td><td> 0.000000</td><td> 1.460427</td></tr>\n",
       "\t<tr><td>Skp2_29041  </td><td>0.000000</td><td>0.0000000</td><td>0.000000</td><td>0.000000</td><td>0.000000</td><td>0.000000</td><td>0.000000</td><td>0.000000</td><td>0.0000000</td><td>⋯</td><td> 0.000000</td><td> 0.000000</td><td> 0.000000</td><td> 0.000000</td><td> 0.000000</td><td> 0.000000</td><td> 0.000000</td><td> 0.000000</td><td> 0.000000</td><td> 0.000000</td></tr>\n",
       "\t<tr><td>Nme1_29042  </td><td>9.496876</td><td>9.4182895</td><td>9.482641</td><td>9.411011</td><td>9.680811</td><td>9.421780</td><td>9.155520</td><td>9.517998</td><td>9.2165078</td><td>⋯</td><td>10.390459</td><td> 9.717889</td><td>10.197414</td><td> 9.690385</td><td> 9.958532</td><td> 9.541203</td><td> 9.594351</td><td> 8.854131</td><td> 9.858309</td><td> 9.476282</td></tr>\n",
       "\t<tr><td>Ctsd_29043  </td><td>5.477012</td><td>3.8005134</td><td>4.043816</td><td>4.175141</td><td>4.833601</td><td>4.048264</td><td>3.913164</td><td>4.974692</td><td>4.9640230</td><td>⋯</td><td> 5.171545</td><td> 4.766944</td><td> 5.079045</td><td> 4.516070</td><td> 5.459466</td><td> 5.242892</td><td> 5.720632</td><td> 5.732964</td><td> 5.081831</td><td> 5.485345</td></tr>\n",
       "\t<tr><td>Camk1_29044 </td><td>7.749153</td><td>9.1892817</td><td>9.053160</td><td>8.127899</td><td>8.723191</td><td>9.020838</td><td>8.318866</td><td>8.358731</td><td>8.7913172</td><td>⋯</td><td>11.195259</td><td>10.882216</td><td>11.223821</td><td>10.357870</td><td>10.624620</td><td>10.763880</td><td>10.477399</td><td>10.427105</td><td>10.528044</td><td>10.422839</td></tr>\n",
       "</tbody>\n",
       "</table>\n"
      ],
      "text/latex": [
       "A tibble: 6 × 170\n",
       "\\begin{tabular}{lllllllllllllllllllll}\n",
       " X1 & M1\\_RedOakSmolder & M2\\_RedOakSmolder & M3\\_RedOakSmolder & M4\\_RedOakSmolder & M5\\_RedOakSmolder & M6\\_RedOakSmolder & M7\\_PeatSmolder & M8\\_PeatSmolder & M9\\_PeatSmolder & ⋯ & MH73\\_RedOakSmolder & MH74\\_RedOakSmolder & MH75\\_RedOakSmolder & MH76\\_RedOakSmolder & MH77\\_PeatSmolder & MH78\\_PeatSmolder & MH79\\_PeatSmolder & MH80\\_PeatSmolder & MH81\\_PeatSmolder & MH82\\_PeatSmolder\\\\\n",
       " <chr> & <dbl> & <dbl> & <dbl> & <dbl> & <dbl> & <dbl> & <dbl> & <dbl> & <dbl> & ⋯ & <dbl> & <dbl> & <dbl> & <dbl> & <dbl> & <dbl> & <dbl> & <dbl> & <dbl> & <dbl>\\\\\n",
       "\\hline\n",
       "\t Bcat1\\_29039  & 0.000000 & 0.0000000 & 0.000000 & 0.000000 & 0.000000 & 0.000000 & 0.000000 & 0.000000 & 0.0000000 & ⋯ &  0.000000 &  0.000000 &  0.000000 &  0.000000 &  0.000000 &  0.000000 &  0.000000 &  0.000000 &  0.000000 &  0.000000\\\\\n",
       "\t Laptm5\\_29040 & 0.000000 & 0.8162391 & 2.151526 & 0.000000 & 0.000000 & 0.000000 & 1.310669 & 0.000000 & 0.8440234 & ⋯ &  0.000000 &  0.000000 &  0.000000 &  2.044687 &  0.000000 &  0.000000 &  0.000000 &  0.000000 &  0.000000 &  1.460427\\\\\n",
       "\t Skp2\\_29041   & 0.000000 & 0.0000000 & 0.000000 & 0.000000 & 0.000000 & 0.000000 & 0.000000 & 0.000000 & 0.0000000 & ⋯ &  0.000000 &  0.000000 &  0.000000 &  0.000000 &  0.000000 &  0.000000 &  0.000000 &  0.000000 &  0.000000 &  0.000000\\\\\n",
       "\t Nme1\\_29042   & 9.496876 & 9.4182895 & 9.482641 & 9.411011 & 9.680811 & 9.421780 & 9.155520 & 9.517998 & 9.2165078 & ⋯ & 10.390459 &  9.717889 & 10.197414 &  9.690385 &  9.958532 &  9.541203 &  9.594351 &  8.854131 &  9.858309 &  9.476282\\\\\n",
       "\t Ctsd\\_29043   & 5.477012 & 3.8005134 & 4.043816 & 4.175141 & 4.833601 & 4.048264 & 3.913164 & 4.974692 & 4.9640230 & ⋯ &  5.171545 &  4.766944 &  5.079045 &  4.516070 &  5.459466 &  5.242892 &  5.720632 &  5.732964 &  5.081831 &  5.485345\\\\\n",
       "\t Camk1\\_29044  & 7.749153 & 9.1892817 & 9.053160 & 8.127899 & 8.723191 & 9.020838 & 8.318866 & 8.358731 & 8.7913172 & ⋯ & 11.195259 & 10.882216 & 11.223821 & 10.357870 & 10.624620 & 10.763880 & 10.477399 & 10.427105 & 10.528044 & 10.422839\\\\\n",
       "\\end{tabular}\n"
      ],
      "text/markdown": [
       "\n",
       "A tibble: 6 × 170\n",
       "\n",
       "| X1 &lt;chr&gt; | M1_RedOakSmolder &lt;dbl&gt; | M2_RedOakSmolder &lt;dbl&gt; | M3_RedOakSmolder &lt;dbl&gt; | M4_RedOakSmolder &lt;dbl&gt; | M5_RedOakSmolder &lt;dbl&gt; | M6_RedOakSmolder &lt;dbl&gt; | M7_PeatSmolder &lt;dbl&gt; | M8_PeatSmolder &lt;dbl&gt; | M9_PeatSmolder &lt;dbl&gt; | ⋯ ⋯ | MH73_RedOakSmolder &lt;dbl&gt; | MH74_RedOakSmolder &lt;dbl&gt; | MH75_RedOakSmolder &lt;dbl&gt; | MH76_RedOakSmolder &lt;dbl&gt; | MH77_PeatSmolder &lt;dbl&gt; | MH78_PeatSmolder &lt;dbl&gt; | MH79_PeatSmolder &lt;dbl&gt; | MH80_PeatSmolder &lt;dbl&gt; | MH81_PeatSmolder &lt;dbl&gt; | MH82_PeatSmolder &lt;dbl&gt; |\n",
       "|---|---|---|---|---|---|---|---|---|---|---|---|---|---|---|---|---|---|---|---|---|\n",
       "| Bcat1_29039  | 0.000000 | 0.0000000 | 0.000000 | 0.000000 | 0.000000 | 0.000000 | 0.000000 | 0.000000 | 0.0000000 | ⋯ |  0.000000 |  0.000000 |  0.000000 |  0.000000 |  0.000000 |  0.000000 |  0.000000 |  0.000000 |  0.000000 |  0.000000 |\n",
       "| Laptm5_29040 | 0.000000 | 0.8162391 | 2.151526 | 0.000000 | 0.000000 | 0.000000 | 1.310669 | 0.000000 | 0.8440234 | ⋯ |  0.000000 |  0.000000 |  0.000000 |  2.044687 |  0.000000 |  0.000000 |  0.000000 |  0.000000 |  0.000000 |  1.460427 |\n",
       "| Skp2_29041   | 0.000000 | 0.0000000 | 0.000000 | 0.000000 | 0.000000 | 0.000000 | 0.000000 | 0.000000 | 0.0000000 | ⋯ |  0.000000 |  0.000000 |  0.000000 |  0.000000 |  0.000000 |  0.000000 |  0.000000 |  0.000000 |  0.000000 |  0.000000 |\n",
       "| Nme1_29042   | 9.496876 | 9.4182895 | 9.482641 | 9.411011 | 9.680811 | 9.421780 | 9.155520 | 9.517998 | 9.2165078 | ⋯ | 10.390459 |  9.717889 | 10.197414 |  9.690385 |  9.958532 |  9.541203 |  9.594351 |  8.854131 |  9.858309 |  9.476282 |\n",
       "| Ctsd_29043   | 5.477012 | 3.8005134 | 4.043816 | 4.175141 | 4.833601 | 4.048264 | 3.913164 | 4.974692 | 4.9640230 | ⋯ |  5.171545 |  4.766944 |  5.079045 |  4.516070 |  5.459466 |  5.242892 |  5.720632 |  5.732964 |  5.081831 |  5.485345 |\n",
       "| Camk1_29044  | 7.749153 | 9.1892817 | 9.053160 | 8.127899 | 8.723191 | 9.020838 | 8.318866 | 8.358731 | 8.7913172 | ⋯ | 11.195259 | 10.882216 | 11.223821 | 10.357870 | 10.624620 | 10.763880 | 10.477399 | 10.427105 | 10.528044 | 10.422839 |\n",
       "\n"
      ],
      "text/plain": [
       "  X1           M1_RedOakSmolder M2_RedOakSmolder M3_RedOakSmolder\n",
       "1 Bcat1_29039  0.000000         0.0000000        0.000000        \n",
       "2 Laptm5_29040 0.000000         0.8162391        2.151526        \n",
       "3 Skp2_29041   0.000000         0.0000000        0.000000        \n",
       "4 Nme1_29042   9.496876         9.4182895        9.482641        \n",
       "5 Ctsd_29043   5.477012         3.8005134        4.043816        \n",
       "6 Camk1_29044  7.749153         9.1892817        9.053160        \n",
       "  M4_RedOakSmolder M5_RedOakSmolder M6_RedOakSmolder M7_PeatSmolder\n",
       "1 0.000000         0.000000         0.000000         0.000000      \n",
       "2 0.000000         0.000000         0.000000         1.310669      \n",
       "3 0.000000         0.000000         0.000000         0.000000      \n",
       "4 9.411011         9.680811         9.421780         9.155520      \n",
       "5 4.175141         4.833601         4.048264         3.913164      \n",
       "6 8.127899         8.723191         9.020838         8.318866      \n",
       "  M8_PeatSmolder M9_PeatSmolder ⋯ MH73_RedOakSmolder MH74_RedOakSmolder\n",
       "1 0.000000       0.0000000      ⋯  0.000000           0.000000         \n",
       "2 0.000000       0.8440234      ⋯  0.000000           0.000000         \n",
       "3 0.000000       0.0000000      ⋯  0.000000           0.000000         \n",
       "4 9.517998       9.2165078      ⋯ 10.390459           9.717889         \n",
       "5 4.974692       4.9640230      ⋯  5.171545           4.766944         \n",
       "6 8.358731       8.7913172      ⋯ 11.195259          10.882216         \n",
       "  MH75_RedOakSmolder MH76_RedOakSmolder MH77_PeatSmolder MH78_PeatSmolder\n",
       "1  0.000000           0.000000           0.000000         0.000000       \n",
       "2  0.000000           2.044687           0.000000         0.000000       \n",
       "3  0.000000           0.000000           0.000000         0.000000       \n",
       "4 10.197414           9.690385           9.958532         9.541203       \n",
       "5  5.079045           4.516070           5.459466         5.242892       \n",
       "6 11.223821          10.357870          10.624620        10.763880       \n",
       "  MH79_PeatSmolder MH80_PeatSmolder MH81_PeatSmolder MH82_PeatSmolder\n",
       "1  0.000000         0.000000         0.000000         0.000000       \n",
       "2  0.000000         0.000000         0.000000         1.460427       \n",
       "3  0.000000         0.000000         0.000000         0.000000       \n",
       "4  9.594351         8.854131         9.858309         9.476282       \n",
       "5  5.720632         5.732964         5.081831         5.485345       \n",
       "6 10.477399        10.427105        10.528044        10.422839       "
      ]
     },
     "metadata": {},
     "output_type": "display_data"
    }
   ],
   "source": [
    "head(counts_df)"
   ]
  },
  {
   "cell_type": "code",
   "execution_count": 3,
   "id": "fundamental-toyota",
   "metadata": {},
   "outputs": [
    {
     "data": {
      "text/html": [
       "<table class=\"dataframe\">\n",
       "<caption>A tibble: 6 × 9</caption>\n",
       "<thead>\n",
       "\t<tr><th scope=col>SampleID_BioSpyderCountFile</th><th scope=col>PlateBatch</th><th scope=col>MouseID</th><th scope=col>NumericID</th><th scope=col>Treatment</th><th scope=col>ID</th><th scope=col>Timepoint</th><th scope=col>Tissue</th><th scope=col>Group</th></tr>\n",
       "\t<tr><th scope=col>&lt;chr&gt;</th><th scope=col>&lt;chr&gt;</th><th scope=col>&lt;chr&gt;</th><th scope=col>&lt;chr&gt;</th><th scope=col>&lt;chr&gt;</th><th scope=col>&lt;chr&gt;</th><th scope=col>&lt;chr&gt;</th><th scope=col>&lt;chr&gt;</th><th scope=col>&lt;chr&gt;</th></tr>\n",
       "</thead>\n",
       "<tbody>\n",
       "\t<tr><td>Plate1-m1-RNA</td><td>Plate1</td><td>M1</td><td>1</td><td>RedOakSmolder</td><td>M1_RedOakSmolder</td><td>4h</td><td>Lung</td><td>RedOakSmolder_4h_Lung</td></tr>\n",
       "\t<tr><td>Plate1-m2-RNA</td><td>Plate1</td><td>M2</td><td>2</td><td>RedOakSmolder</td><td>M2_RedOakSmolder</td><td>4h</td><td>Lung</td><td>RedOakSmolder_4h_Lung</td></tr>\n",
       "\t<tr><td>Plate1-m3-RNA</td><td>Plate1</td><td>M3</td><td>3</td><td>RedOakSmolder</td><td>M3_RedOakSmolder</td><td>4h</td><td>Lung</td><td>RedOakSmolder_4h_Lung</td></tr>\n",
       "\t<tr><td>Plate1-m4-RNA</td><td>Plate1</td><td>M4</td><td>4</td><td>RedOakSmolder</td><td>M4_RedOakSmolder</td><td>4h</td><td>Lung</td><td>RedOakSmolder_4h_Lung</td></tr>\n",
       "\t<tr><td>Plate1-m5-RNA</td><td>Plate1</td><td>M5</td><td>5</td><td>RedOakSmolder</td><td>M5_RedOakSmolder</td><td>4h</td><td>Lung</td><td>RedOakSmolder_4h_Lung</td></tr>\n",
       "\t<tr><td>Plate1-m6-RNA</td><td>Plate1</td><td>M6</td><td>6</td><td>RedOakSmolder</td><td>M6_RedOakSmolder</td><td>4h</td><td>Lung</td><td>RedOakSmolder_4h_Lung</td></tr>\n",
       "</tbody>\n",
       "</table>\n"
      ],
      "text/latex": [
       "A tibble: 6 × 9\n",
       "\\begin{tabular}{lllllllll}\n",
       " SampleID\\_BioSpyderCountFile & PlateBatch & MouseID & NumericID & Treatment & ID & Timepoint & Tissue & Group\\\\\n",
       " <chr> & <chr> & <chr> & <chr> & <chr> & <chr> & <chr> & <chr> & <chr>\\\\\n",
       "\\hline\n",
       "\t Plate1-m1-RNA & Plate1 & M1 & 1 & RedOakSmolder & M1\\_RedOakSmolder & 4h & Lung & RedOakSmolder\\_4h\\_Lung\\\\\n",
       "\t Plate1-m2-RNA & Plate1 & M2 & 2 & RedOakSmolder & M2\\_RedOakSmolder & 4h & Lung & RedOakSmolder\\_4h\\_Lung\\\\\n",
       "\t Plate1-m3-RNA & Plate1 & M3 & 3 & RedOakSmolder & M3\\_RedOakSmolder & 4h & Lung & RedOakSmolder\\_4h\\_Lung\\\\\n",
       "\t Plate1-m4-RNA & Plate1 & M4 & 4 & RedOakSmolder & M4\\_RedOakSmolder & 4h & Lung & RedOakSmolder\\_4h\\_Lung\\\\\n",
       "\t Plate1-m5-RNA & Plate1 & M5 & 5 & RedOakSmolder & M5\\_RedOakSmolder & 4h & Lung & RedOakSmolder\\_4h\\_Lung\\\\\n",
       "\t Plate1-m6-RNA & Plate1 & M6 & 6 & RedOakSmolder & M6\\_RedOakSmolder & 4h & Lung & RedOakSmolder\\_4h\\_Lung\\\\\n",
       "\\end{tabular}\n"
      ],
      "text/markdown": [
       "\n",
       "A tibble: 6 × 9\n",
       "\n",
       "| SampleID_BioSpyderCountFile &lt;chr&gt; | PlateBatch &lt;chr&gt; | MouseID &lt;chr&gt; | NumericID &lt;chr&gt; | Treatment &lt;chr&gt; | ID &lt;chr&gt; | Timepoint &lt;chr&gt; | Tissue &lt;chr&gt; | Group &lt;chr&gt; |\n",
       "|---|---|---|---|---|---|---|---|---|\n",
       "| Plate1-m1-RNA | Plate1 | M1 | 1 | RedOakSmolder | M1_RedOakSmolder | 4h | Lung | RedOakSmolder_4h_Lung |\n",
       "| Plate1-m2-RNA | Plate1 | M2 | 2 | RedOakSmolder | M2_RedOakSmolder | 4h | Lung | RedOakSmolder_4h_Lung |\n",
       "| Plate1-m3-RNA | Plate1 | M3 | 3 | RedOakSmolder | M3_RedOakSmolder | 4h | Lung | RedOakSmolder_4h_Lung |\n",
       "| Plate1-m4-RNA | Plate1 | M4 | 4 | RedOakSmolder | M4_RedOakSmolder | 4h | Lung | RedOakSmolder_4h_Lung |\n",
       "| Plate1-m5-RNA | Plate1 | M5 | 5 | RedOakSmolder | M5_RedOakSmolder | 4h | Lung | RedOakSmolder_4h_Lung |\n",
       "| Plate1-m6-RNA | Plate1 | M6 | 6 | RedOakSmolder | M6_RedOakSmolder | 4h | Lung | RedOakSmolder_4h_Lung |\n",
       "\n"
      ],
      "text/plain": [
       "  SampleID_BioSpyderCountFile PlateBatch MouseID NumericID Treatment    \n",
       "1 Plate1-m1-RNA               Plate1     M1      1         RedOakSmolder\n",
       "2 Plate1-m2-RNA               Plate1     M2      2         RedOakSmolder\n",
       "3 Plate1-m3-RNA               Plate1     M3      3         RedOakSmolder\n",
       "4 Plate1-m4-RNA               Plate1     M4      4         RedOakSmolder\n",
       "5 Plate1-m5-RNA               Plate1     M5      5         RedOakSmolder\n",
       "6 Plate1-m6-RNA               Plate1     M6      6         RedOakSmolder\n",
       "  ID               Timepoint Tissue Group                \n",
       "1 M1_RedOakSmolder 4h        Lung   RedOakSmolder_4h_Lung\n",
       "2 M2_RedOakSmolder 4h        Lung   RedOakSmolder_4h_Lung\n",
       "3 M3_RedOakSmolder 4h        Lung   RedOakSmolder_4h_Lung\n",
       "4 M4_RedOakSmolder 4h        Lung   RedOakSmolder_4h_Lung\n",
       "5 M5_RedOakSmolder 4h        Lung   RedOakSmolder_4h_Lung\n",
       "6 M6_RedOakSmolder 4h        Lung   RedOakSmolder_4h_Lung"
      ]
     },
     "metadata": {},
     "output_type": "display_data"
    }
   ],
   "source": [
    "head(sampleinfo)"
   ]
  },
  {
   "cell_type": "code",
   "execution_count": 4,
   "id": "encouraging-palestine",
   "metadata": {},
   "outputs": [
    {
     "name": "stderr",
     "output_type": "stream",
     "text": [
      "Using Gene as id variables\n",
      "\n"
     ]
    },
    {
     "data": {
      "text/html": [
       "<table class=\"dataframe\">\n",
       "<caption>A data.frame: 6 × 3</caption>\n",
       "<thead>\n",
       "\t<tr><th></th><th scope=col>Gene</th><th scope=col>SampleID</th><th scope=col>NormCount</th></tr>\n",
       "\t<tr><th></th><th scope=col>&lt;chr&gt;</th><th scope=col>&lt;fct&gt;</th><th scope=col>&lt;dbl&gt;</th></tr>\n",
       "</thead>\n",
       "<tbody>\n",
       "\t<tr><th scope=row>1</th><td>Bcat1_29039 </td><td>M1_RedOakSmolder</td><td>0.000000</td></tr>\n",
       "\t<tr><th scope=row>2</th><td>Laptm5_29040</td><td>M1_RedOakSmolder</td><td>0.000000</td></tr>\n",
       "\t<tr><th scope=row>3</th><td>Skp2_29041  </td><td>M1_RedOakSmolder</td><td>0.000000</td></tr>\n",
       "\t<tr><th scope=row>4</th><td>Nme1_29042  </td><td>M1_RedOakSmolder</td><td>9.496876</td></tr>\n",
       "\t<tr><th scope=row>5</th><td>Ctsd_29043  </td><td>M1_RedOakSmolder</td><td>5.477012</td></tr>\n",
       "\t<tr><th scope=row>6</th><td>Camk1_29044 </td><td>M1_RedOakSmolder</td><td>7.749153</td></tr>\n",
       "</tbody>\n",
       "</table>\n"
      ],
      "text/latex": [
       "A data.frame: 6 × 3\n",
       "\\begin{tabular}{r|lll}\n",
       "  & Gene & SampleID & NormCount\\\\\n",
       "  & <chr> & <fct> & <dbl>\\\\\n",
       "\\hline\n",
       "\t1 & Bcat1\\_29039  & M1\\_RedOakSmolder & 0.000000\\\\\n",
       "\t2 & Laptm5\\_29040 & M1\\_RedOakSmolder & 0.000000\\\\\n",
       "\t3 & Skp2\\_29041   & M1\\_RedOakSmolder & 0.000000\\\\\n",
       "\t4 & Nme1\\_29042   & M1\\_RedOakSmolder & 9.496876\\\\\n",
       "\t5 & Ctsd\\_29043   & M1\\_RedOakSmolder & 5.477012\\\\\n",
       "\t6 & Camk1\\_29044  & M1\\_RedOakSmolder & 7.749153\\\\\n",
       "\\end{tabular}\n"
      ],
      "text/markdown": [
       "\n",
       "A data.frame: 6 × 3\n",
       "\n",
       "| <!--/--> | Gene &lt;chr&gt; | SampleID &lt;fct&gt; | NormCount &lt;dbl&gt; |\n",
       "|---|---|---|---|\n",
       "| 1 | Bcat1_29039  | M1_RedOakSmolder | 0.000000 |\n",
       "| 2 | Laptm5_29040 | M1_RedOakSmolder | 0.000000 |\n",
       "| 3 | Skp2_29041   | M1_RedOakSmolder | 0.000000 |\n",
       "| 4 | Nme1_29042   | M1_RedOakSmolder | 9.496876 |\n",
       "| 5 | Ctsd_29043   | M1_RedOakSmolder | 5.477012 |\n",
       "| 6 | Camk1_29044  | M1_RedOakSmolder | 7.749153 |\n",
       "\n"
      ],
      "text/plain": [
       "  Gene         SampleID         NormCount\n",
       "1 Bcat1_29039  M1_RedOakSmolder 0.000000 \n",
       "2 Laptm5_29040 M1_RedOakSmolder 0.000000 \n",
       "3 Skp2_29041   M1_RedOakSmolder 0.000000 \n",
       "4 Nme1_29042   M1_RedOakSmolder 9.496876 \n",
       "5 Ctsd_29043   M1_RedOakSmolder 5.477012 \n",
       "6 Camk1_29044  M1_RedOakSmolder 7.749153 "
      ]
     },
     "metadata": {},
     "output_type": "display_data"
    }
   ],
   "source": [
    "#renaming first col\n",
    "names(counts_df)[1] = \"Gene\"\n",
    "\n",
    "#removing heart tissue samples\n",
    "counts_df = counts_df[,colnames(counts_df)[1:140]]\n",
    "\n",
    "#need to melt df so I can separate the sample ids and get timepoints from other file\n",
    "melted_counts_df = melt(counts_df, variable = 'SampleID', value.name = 'NormCount') \n",
    "head(melted_counts_df)"
   ]
  },
  {
   "cell_type": "code",
   "execution_count": 5,
   "id": "earned-preview",
   "metadata": {},
   "outputs": [
    {
     "data": {
      "text/html": [
       "<table class=\"dataframe\">\n",
       "<caption>A data.frame: 6 × 4</caption>\n",
       "<thead>\n",
       "\t<tr><th></th><th scope=col>Gene</th><th scope=col>Exposure</th><th scope=col>NormCount</th><th scope=col>Timepoint</th></tr>\n",
       "\t<tr><th></th><th scope=col>&lt;chr&gt;</th><th scope=col>&lt;chr&gt;</th><th scope=col>&lt;dbl&gt;</th><th scope=col>&lt;chr&gt;</th></tr>\n",
       "</thead>\n",
       "<tbody>\n",
       "\t<tr><th scope=row>1</th><td>Bcat1_29039 </td><td>RedOakSmolder</td><td>0.000000</td><td>4h</td></tr>\n",
       "\t<tr><th scope=row>2</th><td>Laptm5_29040</td><td>RedOakSmolder</td><td>0.000000</td><td>4h</td></tr>\n",
       "\t<tr><th scope=row>3</th><td>Skp2_29041  </td><td>RedOakSmolder</td><td>0.000000</td><td>4h</td></tr>\n",
       "\t<tr><th scope=row>4</th><td>Nme1_29042  </td><td>RedOakSmolder</td><td>9.496876</td><td>4h</td></tr>\n",
       "\t<tr><th scope=row>5</th><td>Ctsd_29043  </td><td>RedOakSmolder</td><td>5.477012</td><td>4h</td></tr>\n",
       "\t<tr><th scope=row>6</th><td>Camk1_29044 </td><td>RedOakSmolder</td><td>7.749153</td><td>4h</td></tr>\n",
       "</tbody>\n",
       "</table>\n"
      ],
      "text/latex": [
       "A data.frame: 6 × 4\n",
       "\\begin{tabular}{r|llll}\n",
       "  & Gene & Exposure & NormCount & Timepoint\\\\\n",
       "  & <chr> & <chr> & <dbl> & <chr>\\\\\n",
       "\\hline\n",
       "\t1 & Bcat1\\_29039  & RedOakSmolder & 0.000000 & 4h\\\\\n",
       "\t2 & Laptm5\\_29040 & RedOakSmolder & 0.000000 & 4h\\\\\n",
       "\t3 & Skp2\\_29041   & RedOakSmolder & 0.000000 & 4h\\\\\n",
       "\t4 & Nme1\\_29042   & RedOakSmolder & 9.496876 & 4h\\\\\n",
       "\t5 & Ctsd\\_29043   & RedOakSmolder & 5.477012 & 4h\\\\\n",
       "\t6 & Camk1\\_29044  & RedOakSmolder & 7.749153 & 4h\\\\\n",
       "\\end{tabular}\n"
      ],
      "text/markdown": [
       "\n",
       "A data.frame: 6 × 4\n",
       "\n",
       "| <!--/--> | Gene &lt;chr&gt; | Exposure &lt;chr&gt; | NormCount &lt;dbl&gt; | Timepoint &lt;chr&gt; |\n",
       "|---|---|---|---|---|\n",
       "| 1 | Bcat1_29039  | RedOakSmolder | 0.000000 | 4h |\n",
       "| 2 | Laptm5_29040 | RedOakSmolder | 0.000000 | 4h |\n",
       "| 3 | Skp2_29041   | RedOakSmolder | 0.000000 | 4h |\n",
       "| 4 | Nme1_29042   | RedOakSmolder | 9.496876 | 4h |\n",
       "| 5 | Ctsd_29043   | RedOakSmolder | 5.477012 | 4h |\n",
       "| 6 | Camk1_29044  | RedOakSmolder | 7.749153 | 4h |\n",
       "\n"
      ],
      "text/plain": [
       "  Gene         Exposure      NormCount Timepoint\n",
       "1 Bcat1_29039  RedOakSmolder 0.000000  4h       \n",
       "2 Laptm5_29040 RedOakSmolder 0.000000  4h       \n",
       "3 Skp2_29041   RedOakSmolder 0.000000  4h       \n",
       "4 Nme1_29042   RedOakSmolder 9.496876  4h       \n",
       "5 Ctsd_29043   RedOakSmolder 5.477012  4h       \n",
       "6 Camk1_29044  RedOakSmolder 7.749153  4h       "
      ]
     },
     "metadata": {},
     "output_type": "display_data"
    }
   ],
   "source": [
    "#inner joining with subject info to get the time points/tissue of the samples\n",
    "melted_counts_df = melted_counts_df %>%\n",
    "    inner_join(sampleinfo, by = c(\"SampleID\" = \"ID\")) %>%\n",
    "    select(Gene, SampleID, NormCount, Timepoint) %>%\n",
    "    separate(SampleID, c(NA, \"Exposure\")) #don't the first part of the id\n",
    "head(melted_counts_df)"
   ]
  },
  {
   "cell_type": "code",
   "execution_count": 6,
   "id": "finite-dependence",
   "metadata": {},
   "outputs": [
    {
     "name": "stderr",
     "output_type": "stream",
     "text": [
      "`summarise()` has grouped output by 'Timepoint', 'Exposure'. You can override using the `.groups` argument.\n",
      "\n"
     ]
    },
    {
     "data": {
      "text/html": [
       "<table class=\"dataframe\">\n",
       "<caption>A grouped_df: 6 × 4</caption>\n",
       "<thead>\n",
       "\t<tr><th scope=col>Timepoint</th><th scope=col>Exposure</th><th scope=col>Gene</th><th scope=col>Avg_NormCount</th></tr>\n",
       "\t<tr><th scope=col>&lt;chr&gt;</th><th scope=col>&lt;chr&gt;</th><th scope=col>&lt;chr&gt;</th><th scope=col>&lt;dbl&gt;</th></tr>\n",
       "</thead>\n",
       "<tbody>\n",
       "\t<tr><td>24h</td><td>EucalyptusFlame</td><td>0610009B22Rik_56046</td><td> 5.2164306</td></tr>\n",
       "\t<tr><td>24h</td><td>EucalyptusFlame</td><td>0610010F05Rik_69119</td><td>10.0883485</td></tr>\n",
       "\t<tr><td>24h</td><td>EucalyptusFlame</td><td>0610010F05Rik_74637</td><td> 3.8062197</td></tr>\n",
       "\t<tr><td>24h</td><td>EucalyptusFlame</td><td>0610010F05Rik_77250</td><td> 0.9262457</td></tr>\n",
       "\t<tr><td>24h</td><td>EucalyptusFlame</td><td>0610010K14Rik_31619</td><td> 9.4314208</td></tr>\n",
       "\t<tr><td>24h</td><td>EucalyptusFlame</td><td>0610010K14Rik_31873</td><td> 9.3811087</td></tr>\n",
       "</tbody>\n",
       "</table>\n"
      ],
      "text/latex": [
       "A grouped\\_df: 6 × 4\n",
       "\\begin{tabular}{llll}\n",
       " Timepoint & Exposure & Gene & Avg\\_NormCount\\\\\n",
       " <chr> & <chr> & <chr> & <dbl>\\\\\n",
       "\\hline\n",
       "\t 24h & EucalyptusFlame & 0610009B22Rik\\_56046 &  5.2164306\\\\\n",
       "\t 24h & EucalyptusFlame & 0610010F05Rik\\_69119 & 10.0883485\\\\\n",
       "\t 24h & EucalyptusFlame & 0610010F05Rik\\_74637 &  3.8062197\\\\\n",
       "\t 24h & EucalyptusFlame & 0610010F05Rik\\_77250 &  0.9262457\\\\\n",
       "\t 24h & EucalyptusFlame & 0610010K14Rik\\_31619 &  9.4314208\\\\\n",
       "\t 24h & EucalyptusFlame & 0610010K14Rik\\_31873 &  9.3811087\\\\\n",
       "\\end{tabular}\n"
      ],
      "text/markdown": [
       "\n",
       "A grouped_df: 6 × 4\n",
       "\n",
       "| Timepoint &lt;chr&gt; | Exposure &lt;chr&gt; | Gene &lt;chr&gt; | Avg_NormCount &lt;dbl&gt; |\n",
       "|---|---|---|---|\n",
       "| 24h | EucalyptusFlame | 0610009B22Rik_56046 |  5.2164306 |\n",
       "| 24h | EucalyptusFlame | 0610010F05Rik_69119 | 10.0883485 |\n",
       "| 24h | EucalyptusFlame | 0610010F05Rik_74637 |  3.8062197 |\n",
       "| 24h | EucalyptusFlame | 0610010F05Rik_77250 |  0.9262457 |\n",
       "| 24h | EucalyptusFlame | 0610010K14Rik_31619 |  9.4314208 |\n",
       "| 24h | EucalyptusFlame | 0610010K14Rik_31873 |  9.3811087 |\n",
       "\n"
      ],
      "text/plain": [
       "  Timepoint Exposure        Gene                Avg_NormCount\n",
       "1 24h       EucalyptusFlame 0610009B22Rik_56046  5.2164306   \n",
       "2 24h       EucalyptusFlame 0610010F05Rik_69119 10.0883485   \n",
       "3 24h       EucalyptusFlame 0610010F05Rik_74637  3.8062197   \n",
       "4 24h       EucalyptusFlame 0610010F05Rik_77250  0.9262457   \n",
       "5 24h       EucalyptusFlame 0610010K14Rik_31619  9.4314208   \n",
       "6 24h       EucalyptusFlame 0610010K14Rik_31873  9.3811087   "
      ]
     },
     "metadata": {},
     "output_type": "display_data"
    }
   ],
   "source": [
    "#now taking an average of normalized counts for each gene based on its exposure and timepoint\n",
    "avg_count_df = melted_counts_df %>%\n",
    "    group_by(Timepoint, Exposure, Gene) %>%\n",
    "    summarize(Avg_NormCount = mean(NormCount))\n",
    "head(avg_count_df)"
   ]
  },
  {
   "cell_type": "code",
   "execution_count": 7,
   "id": "premier-minimum",
   "metadata": {},
   "outputs": [
    {
     "data": {
      "text/html": [
       "<table class=\"dataframe\">\n",
       "<caption>A data.frame: 6 × 2</caption>\n",
       "<thead>\n",
       "\t<tr><th></th><th scope=col>Treatment1</th><th scope=col>Treatment2</th></tr>\n",
       "\t<tr><th></th><th scope=col>&lt;fct&gt;</th><th scope=col>&lt;fct&gt;</th></tr>\n",
       "</thead>\n",
       "<tbody>\n",
       "\t<tr><th scope=row>1</th><td>EucalyptusFlame</td><td>EucalyptusSmolder</td></tr>\n",
       "\t<tr><th scope=row>2</th><td>EucalyptusFlame</td><td>LPS              </td></tr>\n",
       "\t<tr><th scope=row>3</th><td>EucalyptusFlame</td><td>PeatFlame        </td></tr>\n",
       "\t<tr><th scope=row>4</th><td>EucalyptusFlame</td><td>PeatSmolder      </td></tr>\n",
       "\t<tr><th scope=row>5</th><td>EucalyptusFlame</td><td>PineFlame        </td></tr>\n",
       "\t<tr><th scope=row>6</th><td>EucalyptusFlame</td><td>PineNeedlesFlame </td></tr>\n",
       "</tbody>\n",
       "</table>\n"
      ],
      "text/latex": [
       "A data.frame: 6 × 2\n",
       "\\begin{tabular}{r|ll}\n",
       "  & Treatment1 & Treatment2\\\\\n",
       "  & <fct> & <fct>\\\\\n",
       "\\hline\n",
       "\t1 & EucalyptusFlame & EucalyptusSmolder\\\\\n",
       "\t2 & EucalyptusFlame & LPS              \\\\\n",
       "\t3 & EucalyptusFlame & PeatFlame        \\\\\n",
       "\t4 & EucalyptusFlame & PeatSmolder      \\\\\n",
       "\t5 & EucalyptusFlame & PineFlame        \\\\\n",
       "\t6 & EucalyptusFlame & PineNeedlesFlame \\\\\n",
       "\\end{tabular}\n"
      ],
      "text/markdown": [
       "\n",
       "A data.frame: 6 × 2\n",
       "\n",
       "| <!--/--> | Treatment1 &lt;fct&gt; | Treatment2 &lt;fct&gt; |\n",
       "|---|---|---|\n",
       "| 1 | EucalyptusFlame | EucalyptusSmolder |\n",
       "| 2 | EucalyptusFlame | LPS               |\n",
       "| 3 | EucalyptusFlame | PeatFlame         |\n",
       "| 4 | EucalyptusFlame | PeatSmolder       |\n",
       "| 5 | EucalyptusFlame | PineFlame         |\n",
       "| 6 | EucalyptusFlame | PineNeedlesFlame  |\n",
       "\n"
      ],
      "text/plain": [
       "  Treatment1      Treatment2       \n",
       "1 EucalyptusFlame EucalyptusSmolder\n",
       "2 EucalyptusFlame LPS              \n",
       "3 EucalyptusFlame PeatFlame        \n",
       "4 EucalyptusFlame PeatSmolder      \n",
       "5 EucalyptusFlame PineFlame        \n",
       "6 EucalyptusFlame PineNeedlesFlame "
      ]
     },
     "metadata": {},
     "output_type": "display_data"
    }
   ],
   "source": [
    "treatment = c('EucalyptusFlame', 'EucalyptusSmolder','LPS', 'PeatFlame','PeatSmolder','PineFlame','PineNeedlesFlame', \n",
    "             'PineNeedlesSmolder', 'PineSmolder', 'RedOakFlame', 'RedOakSmolder')\n",
    "combinations = data.frame(t(combn(treatment, 2)))\n",
    "colnames(combinations) = c(\"Treatment1\", \"Treatment2\")\n",
    "head(combinations)"
   ]
  },
  {
   "cell_type": "code",
   "execution_count": 8,
   "id": "endless-template",
   "metadata": {},
   "outputs": [],
   "source": [
    "#now running pearson's correlation coefficients\n",
    "time = c(\"4h\", \"24h\")\n",
    "empty_vector = c()\n",
    "\n",
    "for (i in 1:length(time)){\n",
    "    for (j in 1:length(combinations$Treatment1)){\n",
    "        #creating two df to compare col of averages \n",
    "        treatment_1_df = avg_count_df %>%\n",
    "            filter(Timepoint == time[i], Exposure == combinations$Treatment1[j])\n",
    "        treatment_2_df = avg_count_df %>%\n",
    "            filter(Timepoint == time[i], Exposure == combinations$Treatment2[j])\n",
    "        \n",
    "      \n",
    "        #calculating pearson's coefficient\n",
    "        pearson_corr = cor.test(treatment_1_df$Avg_NormCount, treatment_2_df$Avg_NormCount, method = c(\"pearson\"))\n",
    "\n",
    "        #vector of values containing, the timepoint, treatment 1, treatment 2, coeff, and p value\n",
    "        values_vector = c(time[i], as.character(combinations$Treatment1[j]), as.character(combinations$Treatment2[j]),\n",
    "                          pearson_corr$estimate, pearson_corr$p.value)\n",
    "        empty_vector = c(empty_vector, values_vector)\n",
    "\n",
    "    }\n",
    "}"
   ]
  },
  {
   "cell_type": "code",
   "execution_count": 9,
   "id": "buried-speech",
   "metadata": {},
   "outputs": [
    {
     "data": {
      "text/html": [
       "<table class=\"dataframe\">\n",
       "<caption>A data.frame: 6 × 5</caption>\n",
       "<thead>\n",
       "\t<tr><th></th><th scope=col>Time</th><th scope=col>Treatment1</th><th scope=col>Treatment2</th><th scope=col>Coefficient</th><th scope=col>P Value</th></tr>\n",
       "\t<tr><th></th><th scope=col>&lt;fct&gt;</th><th scope=col>&lt;fct&gt;</th><th scope=col>&lt;fct&gt;</th><th scope=col>&lt;fct&gt;</th><th scope=col>&lt;fct&gt;</th></tr>\n",
       "</thead>\n",
       "<tbody>\n",
       "\t<tr><th scope=row>1</th><td>4h</td><td>EucalyptusFlame</td><td>EucalyptusSmolder</td><td>0.992523696845208</td><td>0</td></tr>\n",
       "\t<tr><th scope=row>2</th><td>4h</td><td>EucalyptusFlame</td><td>LPS              </td><td>0.971895587418455</td><td>0</td></tr>\n",
       "\t<tr><th scope=row>3</th><td>4h</td><td>EucalyptusFlame</td><td>PeatFlame        </td><td>0.99124601594519 </td><td>0</td></tr>\n",
       "\t<tr><th scope=row>4</th><td>4h</td><td>EucalyptusFlame</td><td>PeatSmolder      </td><td>0.988060448645687</td><td>0</td></tr>\n",
       "\t<tr><th scope=row>5</th><td>4h</td><td>EucalyptusFlame</td><td>PineFlame        </td><td>0.99174379570422 </td><td>0</td></tr>\n",
       "\t<tr><th scope=row>6</th><td>4h</td><td>EucalyptusFlame</td><td>PineNeedlesFlame </td><td>0.992857014822994</td><td>0</td></tr>\n",
       "</tbody>\n",
       "</table>\n"
      ],
      "text/latex": [
       "A data.frame: 6 × 5\n",
       "\\begin{tabular}{r|lllll}\n",
       "  & Time & Treatment1 & Treatment2 & Coefficient & P Value\\\\\n",
       "  & <fct> & <fct> & <fct> & <fct> & <fct>\\\\\n",
       "\\hline\n",
       "\t1 & 4h & EucalyptusFlame & EucalyptusSmolder & 0.992523696845208 & 0\\\\\n",
       "\t2 & 4h & EucalyptusFlame & LPS               & 0.971895587418455 & 0\\\\\n",
       "\t3 & 4h & EucalyptusFlame & PeatFlame         & 0.99124601594519  & 0\\\\\n",
       "\t4 & 4h & EucalyptusFlame & PeatSmolder       & 0.988060448645687 & 0\\\\\n",
       "\t5 & 4h & EucalyptusFlame & PineFlame         & 0.99174379570422  & 0\\\\\n",
       "\t6 & 4h & EucalyptusFlame & PineNeedlesFlame  & 0.992857014822994 & 0\\\\\n",
       "\\end{tabular}\n"
      ],
      "text/markdown": [
       "\n",
       "A data.frame: 6 × 5\n",
       "\n",
       "| <!--/--> | Time &lt;fct&gt; | Treatment1 &lt;fct&gt; | Treatment2 &lt;fct&gt; | Coefficient &lt;fct&gt; | P Value &lt;fct&gt; |\n",
       "|---|---|---|---|---|---|\n",
       "| 1 | 4h | EucalyptusFlame | EucalyptusSmolder | 0.992523696845208 | 0 |\n",
       "| 2 | 4h | EucalyptusFlame | LPS               | 0.971895587418455 | 0 |\n",
       "| 3 | 4h | EucalyptusFlame | PeatFlame         | 0.99124601594519  | 0 |\n",
       "| 4 | 4h | EucalyptusFlame | PeatSmolder       | 0.988060448645687 | 0 |\n",
       "| 5 | 4h | EucalyptusFlame | PineFlame         | 0.99174379570422  | 0 |\n",
       "| 6 | 4h | EucalyptusFlame | PineNeedlesFlame  | 0.992857014822994 | 0 |\n",
       "\n"
      ],
      "text/plain": [
       "  Time Treatment1      Treatment2        Coefficient       P Value\n",
       "1 4h   EucalyptusFlame EucalyptusSmolder 0.992523696845208 0      \n",
       "2 4h   EucalyptusFlame LPS               0.971895587418455 0      \n",
       "3 4h   EucalyptusFlame PeatFlame         0.99124601594519  0      \n",
       "4 4h   EucalyptusFlame PeatSmolder       0.988060448645687 0      \n",
       "5 4h   EucalyptusFlame PineFlame         0.99174379570422  0      \n",
       "6 4h   EucalyptusFlame PineNeedlesFlame  0.992857014822994 0      "
      ]
     },
     "metadata": {},
     "output_type": "display_data"
    }
   ],
   "source": [
    "final_table = function(vector){\n",
    "    #\"\"\"\n",
    "    #Reformatting each vector into matrices to export. \n",
    "    \n",
    "    #:param: vector, demographic variable\n",
    "    #:output: a 5x110 matrix containing time, tx 1, tx 2, estimate, p value, p adj\n",
    "\n",
    "    #\"\"\"\n",
    "    dim(vector) = c(5, 110)\n",
    "    table = data.frame(t(vector))    \n",
    "    colnames(table) = c('Time', 'Treatment1', 'Treatment2', 'Coefficient', 'P Value')\n",
    "    return(table)\n",
    "}\n",
    "\n",
    "#calling fn\n",
    "pearson_table = final_table(empty_vector)\n",
    "head(pearson_table)"
   ]
  },
  {
   "cell_type": "code",
   "execution_count": 10,
   "id": "single-prediction",
   "metadata": {},
   "outputs": [],
   "source": [
    "#exporting\n",
    "write.csv(pearson_table, paste0(Output,\"/\", cur_date, \"_mRNA_Treatment_Correlations.csv\"), row.names = FALSE)"
   ]
  }
 ],
 "metadata": {
  "kernelspec": {
   "display_name": "R",
   "language": "R",
   "name": "ir"
  },
  "language_info": {
   "codemirror_mode": "r",
   "file_extension": ".r",
   "mimetype": "text/x-r-source",
   "name": "R",
   "pygments_lexer": "r",
   "version": "3.6.3"
  }
 },
 "nbformat": 4,
 "nbformat_minor": 5
}
